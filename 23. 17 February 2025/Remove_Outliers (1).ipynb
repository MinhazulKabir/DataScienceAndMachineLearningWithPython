{
 "cells": [
  {
   "cell_type": "markdown",
   "metadata": {
    "id": "mYmheuUbjAko"
   },
   "source": [
    "**An outlier** is a data point that is significantly different or distant from other points in a dataset. It is unusually high or low compared to the rest of the data.\n",
    "\n",
    "**Why Remove Outliers?**\n",
    "Distortion: Outliers can distort statistical analyses and model training by skewing results.\n",
    "Model Accuracy: They can reduce the accuracy of machine learning models, causing poor predictions or overfitting.\n",
    "Irrelevance: Outliers may represent errors or rare, irrelevant occurrences that do not contribute to meaningful insights."
   ]
  },
  {
   "cell_type": "markdown",
   "metadata": {
    "id": "A7m0C4wVjJLP"
   },
   "source": [
    "**1. Z-Score Method:**\n",
    "Z-Score is calculated to determine how far a data point is from the mean in terms of standard deviations. If the Z-Score is above a certain threshold (typically 2 or 3), it is considered an outlier."
   ]
  },
  {
   "cell_type": "code",
   "execution_count": 4,
   "metadata": {
    "id": "KelhDmPai_Qj"
   },
   "outputs": [
    {
     "data": {
      "text/html": [
       "<div>\n",
       "<style scoped>\n",
       "    .dataframe tbody tr th:only-of-type {\n",
       "        vertical-align: middle;\n",
       "    }\n",
       "\n",
       "    .dataframe tbody tr th {\n",
       "        vertical-align: top;\n",
       "    }\n",
       "\n",
       "    .dataframe thead th {\n",
       "        text-align: right;\n",
       "    }\n",
       "</style>\n",
       "<table border=\"1\" class=\"dataframe\">\n",
       "  <thead>\n",
       "    <tr style=\"text-align: right;\">\n",
       "      <th></th>\n",
       "      <th>Value</th>\n",
       "    </tr>\n",
       "  </thead>\n",
       "  <tbody>\n",
       "    <tr>\n",
       "      <th>0</th>\n",
       "      <td>10</td>\n",
       "    </tr>\n",
       "    <tr>\n",
       "      <th>1</th>\n",
       "      <td>12</td>\n",
       "    </tr>\n",
       "    <tr>\n",
       "      <th>2</th>\n",
       "      <td>14</td>\n",
       "    </tr>\n",
       "    <tr>\n",
       "      <th>3</th>\n",
       "      <td>15</td>\n",
       "    </tr>\n",
       "    <tr>\n",
       "      <th>4</th>\n",
       "      <td>100</td>\n",
       "    </tr>\n",
       "    <tr>\n",
       "      <th>5</th>\n",
       "      <td>16</td>\n",
       "    </tr>\n",
       "    <tr>\n",
       "      <th>6</th>\n",
       "      <td>18</td>\n",
       "    </tr>\n",
       "    <tr>\n",
       "      <th>7</th>\n",
       "      <td>20</td>\n",
       "    </tr>\n",
       "    <tr>\n",
       "      <th>8</th>\n",
       "      <td>22</td>\n",
       "    </tr>\n",
       "    <tr>\n",
       "      <th>9</th>\n",
       "      <td>24</td>\n",
       "    </tr>\n",
       "  </tbody>\n",
       "</table>\n",
       "</div>"
      ],
      "text/plain": [
       "   Value\n",
       "0     10\n",
       "1     12\n",
       "2     14\n",
       "3     15\n",
       "4    100\n",
       "5     16\n",
       "6     18\n",
       "7     20\n",
       "8     22\n",
       "9     24"
      ]
     },
     "execution_count": 4,
     "metadata": {},
     "output_type": "execute_result"
    }
   ],
   "source": [
    "import numpy as np\n",
    "import pandas as pd\n",
    "from scipy import stats\n",
    "\n",
    "# Sample DataFrame\n",
    "data = {'Value': [10, 12, 14, 15, 100, 16, 18, 20, 22, 24]}\n",
    "df = pd.DataFrame(data)\n",
    "\n",
    "# Calculate Z-Score\n",
    "z_scores = np.abs(stats.zscore(df['Value']))\n",
    "\n",
    "\n",
    "# # Remove outliers (Z-Score > 2)\n",
    "# df_no_outliers = df[z_scores <= 2]\n",
    "\n",
    "# print(\"Data after removing outliers using Z-Score:\")\n",
    "# print(df_no_outliers)\n",
    "df"
   ]
  },
  {
   "cell_type": "markdown",
   "metadata": {
    "id": "6T_O1zBhjcKv"
   },
   "source": [
    "**Explanation:**\n",
    "\n",
    "**Z-Score Calculation:** This step computes how far each data point is from the mean in terms of standard deviations.\n",
    "Thresholding: We remove rows where the absolute Z-Score is greater than 2, indicating they are outliers."
   ]
  },
  {
   "cell_type": "markdown",
   "metadata": {
    "id": "UQ_3Unnnjsxf"
   },
   "source": [
    "**2. IQR (Interquartile Range) Method:**\n",
    "The IQR method uses the first (Q1) and third (Q3) quartiles of the data to calculate the range of acceptable values. Outliers are considered to be values outside of the range (Q1 - 1.5 * IQR, Q3 + 1.5 * IQR)."
   ]
  },
  {
   "cell_type": "code",
   "execution_count": 5,
   "metadata": {
    "colab": {
     "base_uri": "https://localhost:8080/"
    },
    "id": "6Ipb_ATQjvPt",
    "outputId": "dbd8c91f-0678-4f96-ef6a-c8842ed6c6aa"
   },
   "outputs": [
    {
     "name": "stdout",
     "output_type": "stream",
     "text": [
      "Data after removing outliers using IQR:\n",
      "   Value\n",
      "0     10\n",
      "1     12\n",
      "2     14\n",
      "3     15\n",
      "5     16\n",
      "6     18\n",
      "7     20\n",
      "8     22\n",
      "9     24\n"
     ]
    }
   ],
   "source": [
    "# Calculate IQR\n",
    "Q1 = df['Value'].quantile(0.25)\n",
    "Q3 = df['Value'].quantile(0.75)\n",
    "IQR = Q3 - Q1\n",
    "\n",
    "# Determine the outlier boundaries\n",
    "lower_bound = Q1 - 1.5 * IQR\n",
    "upper_bound = Q3 + 1.5 * IQR\n",
    "\n",
    "# Remove outliers (values outside of IQR range)\n",
    "df_no_outliers_iqr = df[(df['Value'] >= lower_bound) & (df['Value'] <= upper_bound)]\n",
    "\n",
    "print(\"Data after removing outliers using IQR:\")\n",
    "print(df_no_outliers_iqr)\n"
   ]
  },
  {
   "cell_type": "code",
   "execution_count": null,
   "metadata": {},
   "outputs": [],
   "source": []
  },
  {
   "cell_type": "code",
   "execution_count": null,
   "metadata": {},
   "outputs": [],
   "source": []
  },
  {
   "cell_type": "markdown",
   "metadata": {
    "id": "_5pG84lLj0IG"
   },
   "source": [
    "**Explanation:**\n",
    "\n",
    "**IQR Calculation:**  The difference between the third and first quartiles (Q3 - Q1).\n",
    "Thresholding: Values below Q1 - 1.5 * IQR or above Q3 + 1.5 * IQR are considered outliers and removed."
   ]
  }
 ],
 "metadata": {
  "colab": {
   "provenance": []
  },
  "kernelspec": {
   "display_name": "Python 3 (ipykernel)",
   "language": "python",
   "name": "python3"
  },
  "language_info": {
   "codemirror_mode": {
    "name": "ipython",
    "version": 3
   },
   "file_extension": ".py",
   "mimetype": "text/x-python",
   "name": "python",
   "nbconvert_exporter": "python",
   "pygments_lexer": "ipython3",
   "version": "3.12.9"
  }
 },
 "nbformat": 4,
 "nbformat_minor": 4
}
