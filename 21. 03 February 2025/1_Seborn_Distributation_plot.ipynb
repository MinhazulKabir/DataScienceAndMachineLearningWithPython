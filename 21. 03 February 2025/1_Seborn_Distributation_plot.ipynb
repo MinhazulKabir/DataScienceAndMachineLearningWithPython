{
 "cells": [
  {
   "cell_type": "markdown",
   "metadata": {},
   "source": [
    "# [seaborn: statistical data visualization](http://seaborn.pydata.org/index.html)\n",
    "## [Distribution Plots](http://seaborn.pydata.org/tutorial/distributions.html#distribution-tutorial): <font style=\"font-size:16px;color:green;\">Visualizing the distribution of a dataset</font>\n",
    "\n",
    "Hi Guys,<br>\n",
    "Welcome back to the Seaborn. Let's start with Seaborn's Distribution plots. When dealing with a set of data, often the first thing we want to do is get a sense for how the variables are distributed. <br>\n",
    "In this lecture, we will learn some useful plotting option that allow us to visualize the distribution of a data set.<br> These **distribution plots includes**: <code>distplot(), jointplot(), pairplot(), kdeplot()</code> etc.\n",
    "\n",
    "&#9989; Seaborn comes with [built-in data sets](https://github.com/mwaskom/seaborn-data) that can be loaded using its function <code>load_dataset('data_set_name')</code>. We will use various built-in data sets for learning purpose in the seaborn section.  "
   ]
  },
  {
   "cell_type": "markdown",
   "metadata": {},
   "source": [
    "The official and most common way to import seaborn library is as sns."
   ]
  },
  {
   "cell_type": "code",
   "execution_count": 1,
   "metadata": {},
   "outputs": [],
   "source": [
    "import seaborn as sns\n",
    "%matplotlib inline"
   ]
  },
  {
   "cell_type": "markdown",
   "metadata": {},
   "source": [
    "The given list of built-in data sets can be obtained using <code>**sns.get_dataset_names()**</code>. <br>\n",
    "    * ['anscombe', 'attention', 'brain_networks', 'car_crashes', 'dots', 'exercise', 'flights', 'fmri', 'gammas', 'iris', 'planets', 'tips', 'titanic']\n",
    "Any data set from the list can be loaded using <code>**sns.load_dataset('name')**</code> from the online repository (requires internet). <br>\n",
    "\n",
    "Let's start our learning journey with a simple built-in data set \"tips\". The data set, \"tips\", shows the amount that restaurant staff receive in tips from the customer based on sex, total_bill, day, time etc."
   ]
  },
  {
   "cell_type": "code",
   "execution_count": null,
   "metadata": {},
   "outputs": [],
   "source": []
  },
  {
   "cell_type": "code",
   "execution_count": null,
   "metadata": {},
   "outputs": [],
   "source": [
    "print(sns.get_dataset_names())"
   ]
  },
  {
   "cell_type": "code",
   "execution_count": null,
   "metadata": {},
   "outputs": [],
   "source": [
    "# Loading data set \n",
    "tips = sns.load_dataset('tips')"
   ]
  },
  {
   "cell_type": "code",
   "execution_count": null,
   "metadata": {},
   "outputs": [],
   "source": [
    "tips"
   ]
  },
  {
   "cell_type": "code",
   "execution_count": null,
   "metadata": {},
   "outputs": [],
   "source": [
    "# Lets get a concise summary of the data set.\n",
    "tips.info()"
   ]
  },
  {
   "cell_type": "markdown",
   "metadata": {},
   "source": [
    "So, our data have 244 entries and 7 columns. Let's check the head of the data!"
   ]
  },
  {
   "cell_type": "code",
   "execution_count": null,
   "metadata": {},
   "outputs": [],
   "source": [
    "tips"
   ]
  },
  {
   "cell_type": "code",
   "execution_count": null,
   "metadata": {},
   "outputs": [],
   "source": [
    "tips.head(25)"
   ]
  },
  {
   "cell_type": "markdown",
   "metadata": {},
   "source": [
    "The data has a total_bill along with the amount of tip the customer left for the staff along with some other information such as day, sex, time, size of the group/party etc."
   ]
  },
  {
   "cell_type": "markdown",
   "metadata": {},
   "source": [
    "## <code>[distplot()](http://seaborn.pydata.org/generated/seaborn.distplot.html#seaborn.distplot)</code>\n",
    "\n",
    "The most convenient way to take a quick look at a univariate (single variable) distribution in seaborn is the <code>distplot()</code> function.<br> By default, this will draw a **histogram** and fit a **[kernel density estimate (KDE)](https://en.wikipedia.org/wiki/Kernel_density_estimation)**.<br>\n",
    "&#9758; Shift+Tab for doc string!"
   ]
  },
  {
   "cell_type": "code",
   "execution_count": null,
   "metadata": {},
   "outputs": [],
   "source": [
    "# lets check how the total bill are distributed in the data set\n",
    "sns.distplot(tips['total_bill'])\n",
    "# We can add 'tip' distribution on the same plot as well! \n",
    "# sns.distplot(tips['tip'])"
   ]
  },
  {
   "cell_type": "code",
   "execution_count": null,
   "metadata": {},
   "outputs": [],
   "source": [
    "sns.distplot(tips['tip'])"
   ]
  },
  {
   "cell_type": "code",
   "execution_count": null,
   "metadata": {},
   "outputs": [],
   "source": []
  },
  {
   "cell_type": "markdown",
   "metadata": {},
   "source": [
    "We will talk about the KED later, don't worry about it at this stage.<br> Let's do the following step at the moment:\n",
    "* Remove the KDE layer and display the histogram only using kde=False.\n",
    "* Change the no of bins to 30 *<font style=\"font-size:12px;color:green;\">You need a balance in selecting the bin size, very high value may plot every single instance</font>* "
   ]
  },
  {
   "cell_type": "code",
   "execution_count": null,
   "metadata": {},
   "outputs": [],
   "source": [
    "sns.distplot(tips['total_bill'],kde=False,bins=30)\n",
    "# If you want to display tip col as well\n",
    "# sns.distplot(tips['tip'],kde=False,bins=30)"
   ]
  },
  {
   "cell_type": "markdown",
   "metadata": {},
   "source": [
    "Now we only have a histogram, **x: total_bill** and **y: count**. <br>\n",
    "The data suggest, most of the bills are between 10 and 20 dollars!"
   ]
  },
  {
   "cell_type": "markdown",
   "metadata": {},
   "source": [
    "## <code>[jointplot()](http://seaborn.pydata.org/generated/seaborn.jointplot.html#seaborn.jointplot)</code>\n",
    "We want to do some comparison, how much the customer gave in tip based of their total bill. Seaborn provides a convenient way of plotting bivariate (two variables) data using <code>jointplot()</code>. The function basically match up two distribution plots with our choice of what **kind** (scatter by default) parameter to compare with: \n",
    "* kind : { \"scatter\" | \"reg\" | \"resid\" | \"kde\" | \"hex\" }\n",
    "\n",
    "We need to pass in the data set (tips) and tell the function what variables (columns) we want to plot to compare and what is the kind parameter.<br>\n",
    "Let's try with kind = 'scatter', this is the common plot ans easiest to read. "
   ]
  },
  {
   "cell_type": "code",
   "execution_count": 2,
   "metadata": {},
   "outputs": [
    {
     "ename": "NameError",
     "evalue": "name 'tips' is not defined",
     "output_type": "error",
     "traceback": [
      "\u001b[1;31m---------------------------------------------------------------------------\u001b[0m",
      "\u001b[1;31mNameError\u001b[0m                                 Traceback (most recent call last)",
      "Cell \u001b[1;32mIn[2], line 1\u001b[0m\n\u001b[1;32m----> 1\u001b[0m sns\u001b[38;5;241m.\u001b[39mscatterplot(x\u001b[38;5;241m=\u001b[39m\u001b[38;5;124m'\u001b[39m\u001b[38;5;124mtotal_bill\u001b[39m\u001b[38;5;124m'\u001b[39m, y\u001b[38;5;241m=\u001b[39m\u001b[38;5;124m'\u001b[39m\u001b[38;5;124mtip\u001b[39m\u001b[38;5;124m'\u001b[39m, data\u001b[38;5;241m=\u001b[39m\u001b[43mtips\u001b[49m)\n",
      "\u001b[1;31mNameError\u001b[0m: name 'tips' is not defined"
     ]
    }
   ],
   "source": [
    "sns.scatterplot(x='total_bill', y='tip', data=tips)"
   ]
  },
  {
   "cell_type": "code",
   "execution_count": null,
   "metadata": {},
   "outputs": [],
   "source": [
    "sns.jointplot(x='total_bill',y='tip',data=tips)#kind='scatter' - default"
   ]
  },
  {
   "cell_type": "markdown",
   "metadata": {},
   "source": [
    "* So, this is essentially just two distribution plots along with a scatter plot having tip on y and total_bill on x axis \n",
    "* We can see that most of the tips are less than 4 dollars. The maximum in tip is around 10 dollars.\n",
    "* We can see some trend in the tips with total_bill as well.\n",
    "* Looks like, more the customer pay in bill, more he/she gave in the tip.\n",
    "\n",
    "We will explore this in detail in a while. Let's play with kind parameter first!\n",
    "\n",
    "**Kind = 'hex'**<br>\n",
    "Let's pass hex to kind - hexagon distribution representation. This is similar to scatter. <br>\n",
    "The hexagon more points in it, will be darker in color. <br>\n",
    "Rather than displaying all points as a scatter plot, the plot is showing the distribution with hexagons and their color for distribution of data points with in the hexagon. "
   ]
  },
  {
   "cell_type": "code",
   "execution_count": 3,
   "metadata": {},
   "outputs": [
    {
     "ename": "NameError",
     "evalue": "name 'tips' is not defined",
     "output_type": "error",
     "traceback": [
      "\u001b[1;31m---------------------------------------------------------------------------\u001b[0m",
      "\u001b[1;31mNameError\u001b[0m                                 Traceback (most recent call last)",
      "Cell \u001b[1;32mIn[3], line 1\u001b[0m\n\u001b[1;32m----> 1\u001b[0m sns\u001b[38;5;241m.\u001b[39mjointplot(x\u001b[38;5;241m=\u001b[39m\u001b[38;5;124m'\u001b[39m\u001b[38;5;124mtotal_bill\u001b[39m\u001b[38;5;124m'\u001b[39m,y\u001b[38;5;241m=\u001b[39m\u001b[38;5;124m'\u001b[39m\u001b[38;5;124mtip\u001b[39m\u001b[38;5;124m'\u001b[39m,data\u001b[38;5;241m=\u001b[39m\u001b[43mtips\u001b[49m,kind\u001b[38;5;241m=\u001b[39m\u001b[38;5;124m'\u001b[39m\u001b[38;5;124mhex\u001b[39m\u001b[38;5;124m'\u001b[39m)\n",
      "\u001b[1;31mNameError\u001b[0m: name 'tips' is not defined"
     ]
    }
   ],
   "source": [
    "sns.jointplot(x='total_bill',y='tip',data=tips,kind='hex')"
   ]
  },
  {
   "cell_type": "markdown",
   "metadata": {},
   "source": [
    "Let's try **Kind = 'reg'**<br>\n",
    "**reg** is for regression. *<font style=\"font-size:12px;color:green;\">We have not learned about linear regression yet, and we will discuss this in details in the machine learning section. We will come back and discuss how the line is built</font>* <br>\n",
    "With kind = 'reg', the plot is like a scatter plot with a regression line drawn by seaborn. This is just showing almost like a linear fit ti the scattered data points. The plot has pearson coefficient and p-value which we will discuss later on while discussing linear regression. Let's not make things complicated in the data visualization section!  "
   ]
  },
  {
   "cell_type": "code",
   "execution_count": null,
   "metadata": {},
   "outputs": [],
   "source": [
    "sns.jointplot(x='total_bill',y='tip',data=tips,kind='reg')"
   ]
  },
  {
   "cell_type": "markdown",
   "metadata": {},
   "source": [
    "**Lets try kind = 'kde'**<br>\n",
    "This will give 2D kde plot, showing the darker region with density where most of the data points match up."
   ]
  },
  {
   "cell_type": "code",
   "execution_count": null,
   "metadata": {},
   "outputs": [],
   "source": [
    "sns.jointplot(x='total_bill',y='tip',data=tips,kind='kde')"
   ]
  },
  {
   "cell_type": "markdown",
   "metadata": {},
   "source": [
    "## <code>[pairplot()](http://seaborn.pydata.org/generated/seaborn.pairplot.html#seaborn.pairplot)</code>\n",
    "*<font style=\"font-size:12px;color:green;\">We will be using this function often through out the course</font>*<br>\n",
    "We want to have a quick look on our entire data to see the pairwise relationship. This can be done using seaborn function <code>pairplot()</code>, which plot multiple pairwise bivariate distributions in a dataset. This creates a matrix of axes and shows the relationship for each pair of columns in our data set. <br>\n",
    "***By default, it also draws the univariate distribution (histogram) of each variable on the diagonal Axes***:"
   ]
  },
  {
   "cell_type": "code",
   "execution_count": null,
   "metadata": {},
   "outputs": [],
   "source": [
    "tips"
   ]
  },
  {
   "cell_type": "code",
   "execution_count": null,
   "metadata": {},
   "outputs": [],
   "source": [
    "# We need to pass the entire data here\n",
    "sns.pairplot(tips)"
   ]
  },
  {
   "cell_type": "markdown",
   "metadata": {},
   "source": [
    "&#9989; Fo the larger dataframes, it takes longer time to plot the pairplot. Our data set 'tips' is relatively small, so we are fine with the time here.<br>\n",
    "We see, the function plot scatter plots for two variable, e.g. total_bill vs size, tip vs size and when it come to size vs size in the bottom row, the plot is a histogram instead. Same thing for tip vs tip and total_bill vs total_bill along the diagonal. <br>\n",
    "* Along with plotting pairwise relationships across an entire dataframe (for the numerical columns), <code>pairplot()</code> supports a color **hue argument (for categorical columns)** as well.<br>\n",
    "\n",
    "For example, we can display information of the categorical column (male and female) **sex** of the customer using **hue** argument as shown below:"
   ]
  },
  {
   "cell_type": "code",
   "execution_count": null,
   "metadata": {},
   "outputs": [],
   "source": [
    "sns.pairplot(tips,hue='sex')"
   ]
  },
  {
   "cell_type": "markdown",
   "metadata": {},
   "source": [
    "We can see that all the green points are Female and all the blue points are Male, based on the legend. We can specify the color palette e.g. \"coolwarm\" and many others that we will discuss in the style and color section later on.   "
   ]
  },
  {
   "cell_type": "markdown",
   "metadata": {},
   "source": [
    "## <code>[kdeplot()](http://seaborn.pydata.org/generated/seaborn.kdeplot.html#seaborn.kdeplot)</code>\n",
    "\n",
    "KDE plots replace every single observation with a Gaussian (Normal) distribution centered around that value. So with our tips dataset:"
   ]
  },
  {
   "cell_type": "code",
   "execution_count": 4,
   "metadata": {},
   "outputs": [
    {
     "ename": "NameError",
     "evalue": "name 'tips' is not defined",
     "output_type": "error",
     "traceback": [
      "\u001b[1;31m---------------------------------------------------------------------------\u001b[0m",
      "\u001b[1;31mNameError\u001b[0m                                 Traceback (most recent call last)",
      "Cell \u001b[1;32mIn[4], line 1\u001b[0m\n\u001b[1;32m----> 1\u001b[0m sns\u001b[38;5;241m.\u001b[39mkdeplot(\u001b[43mtips\u001b[49m[\u001b[38;5;124m'\u001b[39m\u001b[38;5;124mtotal_bill\u001b[39m\u001b[38;5;124m'\u001b[39m])\n\u001b[0;32m      2\u001b[0m sns\u001b[38;5;241m.\u001b[39mdistplot(tips[\u001b[38;5;124m'\u001b[39m\u001b[38;5;124mtotal_bill\u001b[39m\u001b[38;5;124m'\u001b[39m])\n",
      "\u001b[1;31mNameError\u001b[0m: name 'tips' is not defined"
     ]
    }
   ],
   "source": [
    "sns.kdeplot(tips['total_bill'])\n",
    "sns.distplot(tips['total_bill'])"
   ]
  },
  {
   "cell_type": "code",
   "execution_count": null,
   "metadata": {},
   "outputs": [],
   "source": [
    "# sns.kdeplot(tips['tip'])\n",
    "sns.distplot(tips['tip'])"
   ]
  },
  {
   "cell_type": "markdown",
   "metadata": {},
   "source": [
    "# Great Job!"
   ]
  }
 ],
 "metadata": {
  "kernelspec": {
   "display_name": "Python 3 (ipykernel)",
   "language": "python",
   "name": "python3"
  },
  "language_info": {
   "codemirror_mode": {
    "name": "ipython",
    "version": 3
   },
   "file_extension": ".py",
   "mimetype": "text/x-python",
   "name": "python",
   "nbconvert_exporter": "python",
   "pygments_lexer": "ipython3",
   "version": "3.12.8"
  }
 },
 "nbformat": 4,
 "nbformat_minor": 4
}
