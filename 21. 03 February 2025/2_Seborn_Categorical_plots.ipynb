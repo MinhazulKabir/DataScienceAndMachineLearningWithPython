{
 "cells": [
  {
   "cell_type": "markdown",
   "metadata": {
    "collapsed": true,
    "jupyter": {
     "outputs_hidden": true
    }
   },
   "source": [
    "# seaborn: statistical data visualization\n",
    "## Plotting with categorical data\n",
    "\n",
    "Hi Guys,<br>\n",
    "Welcome back to the seaborn: A statistical data visualization section. Let's deal with the categorical data in this section. Seaborn provides range of options to plot categorical data. Seaborn, on its website in [categorical data plotting section](http://seaborn.pydata.org/tutorial/categorical.html#categorical-tutorial), divide categorical plots into three groups:\n",
    "* <code>swarmplot()</code> and <code>stripplot()</code> are those that show each observation at each level of the categorical variable. \n",
    "* <code>boxplot()</code> and <code>violinplot()</code> are those that show an abstract representation of each distribution of observations.  \n",
    "* <code>barplot()</code> and <code>pointplot()</code> are those that apply a statistical estimation to show a measure of central tendency and confidence interval.\n",
    "\n",
    "Along with above mentiond types of categorical plots, we will also discuss widely used categorical plots, such as <code>countplot()</code> and <code>factorplot()</code> in this section. \n",
    "\n",
    "Let's start with examples:"
   ]
  },
  {
   "cell_type": "code",
   "execution_count": null,
   "metadata": {},
   "outputs": [],
   "source": [
    "# import seaborn library and load the dataset 'tips'\n",
    "import seaborn as sns\n",
    "%matplotlib inline\n",
    "tips = sns.load_dataset('tips')\n",
    "tips"
   ]
  },
  {
   "cell_type": "code",
   "execution_count": null,
   "metadata": {},
   "outputs": [],
   "source": [
    "tips[tips['day']=='Thur']"
   ]
  },
  {
   "cell_type": "code",
   "execution_count": null,
   "metadata": {
    "scrolled": true
   },
   "outputs": [],
   "source": [
    "# once again checking the head of the dataset\n",
    "tips"
   ]
  },
  {
   "cell_type": "markdown",
   "metadata": {},
   "source": [
    "### Categorical scatterplots: \n",
    "### <code>stripplot()</code>\n",
    "<code>stripplot()</code> provides a simple way to show the values of some quantitative variable across the level of a categorical variable.\n",
    "It draws a scatterplot where one variable is categorical.<br>\n",
    "\n",
    "Let's plot the total_bill for each day in the week in our tips data to see how the <code>stripplot()</code> works!"
   ]
  },
  {
   "cell_type": "code",
   "execution_count": null,
   "metadata": {
    "scrolled": true
   },
   "outputs": [],
   "source": [
    "sns.stripplot(x=\"day\", y=\"total_bill\",data=tips)"
   ]
  },
  {
   "cell_type": "markdown",
   "metadata": {},
   "source": [
    "In the above strip plot, we see that the datapoints are overlap, which is common and makes it difficult to observe the full distribution of data.<br>\n",
    "* A parameter** ``jitter`` ** is usefull and provides easy solution to this overlap issue by adjusting the position of datapoitns along categorical axis, so that it is easier to see the distribution. <br>\n",
    "* We can specify the amount of ** ``jitter`` ** ( such as, half the width of the uniform random variable support), or just use ** ``True`` **for a good default.\n",
    "\n",
    "Let's have a look of the same plot by introducing some random ** ``jitter`` **:<br>\n",
    "Let's add a ** nested categorical variable, ``Sex``** with the ** ``hue``** parameter, to get better understanding of our data. We can introduce ** ``palette``** of our own choice, e.g. coolwarm, rainbow etc. "
   ]
  },
  {
   "cell_type": "code",
   "execution_count": null,
   "metadata": {},
   "outputs": [],
   "source": [
    "sns.stripplot(x=\"day\", y=\"total_bill\",data=tips,jitter=False,hue=\"sex\")#, palette='coolwarm')"
   ]
  },
  {
   "cell_type": "markdown",
   "metadata": {},
   "source": [
    "### <code>swarmplot()</code>\n",
    "\n",
    "<code>swarmplot()</code> is similar to the <code>stripplot()</code> and uses different approach to avoid the overlapping issue in the datapoints by positioning each scatterplot point on the categorical axis with an algorithm that avoids overlapping points. This gives a better representation of the distribution of values.<br> \n",
    "&#9758; <font style=\"font-size:12px;color:green;\">The <code>swarmplot()</code> does not scale well to large numbers of observations (both in terms of the ability to show all the points and in terms of the computation needed to arrange them).</font>\n",
    "\n",
    "Let's re-plot the above data with <code>swarmplot()</code>.<br>\n",
    "&#9758; we don't need `jitter` anymore in <code>swarmplot()</code>: "
   ]
  },
  {
   "cell_type": "code",
   "execution_count": null,
   "metadata": {
    "scrolled": true
   },
   "outputs": [],
   "source": [
    "sns.swarmplot(x=\"day\", y=\"total_bill\",data=tips,\n",
    "              hue=\"sex\")#,palette='coolwarm')"
   ]
  },
  {
   "cell_type": "markdown",
   "metadata": {},
   "source": [
    "A common, and often helpful, practice is to put the categorical variable on the vertical axis. This is particularly useful when the category names are relatively long or there are many categories. Although, we can use <code> orient : \"v\" | \"h\", optional parameter </code>, but usually plot orientation can be inferred from the datatypes of the variables passed to x and/or y.<br>\n",
    "Let's try plotting **`days`** along **`y`** and **`total_bill`** along **`x`** with **`hue = 'time'`**."
   ]
  },
  {
   "cell_type": "code",
   "execution_count": null,
   "metadata": {},
   "outputs": [],
   "source": [
    "sns.swarmplot(x=\"total_bill\", y=\"day\", hue=\"time\", data=tips);"
   ]
  },
  {
   "cell_type": "code",
   "execution_count": null,
   "metadata": {},
   "outputs": [],
   "source": [
    "tips"
   ]
  },
  {
   "cell_type": "markdown",
   "metadata": {
    "collapsed": true,
    "jupyter": {
     "outputs_hidden": true
    }
   },
   "source": [
    "We can **observe from the plot above**:\n",
    "* almost all the customers come for lunch on Thursday\n",
    "* almost all the customers come for dinner on the weekends\n",
    "\n",
    "On Fridays, not many go out for lunch or dinner, they may want to save money and energy for the weekends!"
   ]
  },
  {
   "cell_type": "markdown",
   "metadata": {
    "collapsed": true,
    "jupyter": {
     "outputs_hidden": true
    }
   },
   "source": [
    "### Distributions of observations within categories:\n",
    "### <code>boxplot()</code>\n",
    "These type of plots are used to show the distribution of categorical data. A box plot (also known as a box-and-whisker plot) shows the distribution of quantitative data in a way that facilitates comparisons between variables or across levels of a categorical variable. <br>\n",
    "\n",
    "Let's learn with example using out tips data:\n",
    "\n",
    "*<font style=\"font-size:11px;color:green;\">The box shows the [quartiles](https://en.wikipedia.org/wiki/Quartile) of the dataset while the whiskers extend to show the rest of the distribution, except for points that are determined to be “outliers” using a method that is a function of the inter-quartile range.<br>\n",
    "In statistics, the quartiles of a ranked set of data values are the three points that divide the data set into four equal groups, each group comprising a quarter of the data. A quartile is a type of quantile. The first quartile (Q1) is defined as the middle number between the smallest number and the median of the data set. The second quartile (Q2) is the median of the data. The third quartile (Q3) is the middle value between the median and the highest value of the data set.<font>*"
   ]
  },
  {
   "cell_type": "code",
   "execution_count": null,
   "metadata": {},
   "outputs": [],
   "source": [
    "sns.boxplot(x=\"day\", y=\"total_bill\", data=tips)#,palette='rainbow')"
   ]
  },
  {
   "cell_type": "markdown",
   "metadata": {
    "collapsed": true,
    "jupyter": {
     "outputs_hidden": true
    }
   },
   "source": [
    "&#9758; Understanding the Box Plot:<br>\n",
    "We have total_bill along Y and category 'day' along X. <br>\n",
    "If we look at any one of the box, we see the data points in each box / box-and-whisker plot are divided into four quartile groups :<br>\n",
    "* Quartile group 1 - Q1: between the bottom whisker and the bottom of the box\n",
    "* Quartile group 2 - Q2: between the bottom of the box to the line in the box (median)\n",
    "* Quartile group 3 - Q3: between the median and the upper end of the box\n",
    "* Quartile group 4 - Q4: between upper end of the box and the upper whisker\n",
    "\n",
    "Points outside the quartiles are outliers."
   ]
  },
  {
   "cell_type": "markdown",
   "metadata": {},
   "source": [
    "Let's introduce <code>hue = smoker or sex</code> to get more information from our data. "
   ]
  },
  {
   "cell_type": "code",
   "execution_count": null,
   "metadata": {},
   "outputs": [],
   "source": [
    "sns.boxplot(x=\"day\", y=\"total_bill\", data=tips,\n",
    "           hue = 'sex')#,palette='rainbow')\n",
    "# try hue = 'smoker'"
   ]
  },
  {
   "cell_type": "markdown",
   "metadata": {
    "collapsed": true,
    "jupyter": {
     "outputs_hidden": true
    }
   },
   "source": [
    "In the plot above, we split the data into two boxes for each day based on their sex or smoking habit in different color. Now we can compare daily behavior of the person along with other category sex or smoking.<br>\n",
    "This is a true power of seaborn which quickly allow us to add another layer using hue parameter and provide in-depth information from our data very quickly and smoothly."
   ]
  },
  {
   "cell_type": "markdown",
   "metadata": {
    "collapsed": true,
    "jupyter": {
     "outputs_hidden": true
    }
   },
   "source": [
    "### <code>violinplot()</code>\n",
    "The <code>violinplot()</code> draw a combination of boxplot and kernel density estimate. <br>\n",
    "\n",
    "A violin plot plays a similar role as a box and whisker plot. <br>\n",
    "Let's plot the data to learn!"
   ]
  },
  {
   "cell_type": "code",
   "execution_count": null,
   "metadata": {},
   "outputs": [],
   "source": [
    "sns.violinplot(x=\"day\", y=\"total_bill\", data=tips)"
   ]
  },
  {
   "cell_type": "markdown",
   "metadata": {},
   "source": [
    "So, we have a box plot on top of the violinplot. Unlikely the box plot, the violin plot allows us to actually plot all the components that corresponds to actual data points. The violin plot is essentially showing the kernel density estimation of the underlying distribution.<br>\n",
    "\n",
    "&#9989; As compare to the box plots, which is very easy to read, the violin plots are little harder to interpret. They give a lot more information as fas as the distribution of all the points themselves is concerned, but on the cost of more time to looking and understanding the violin plot. *Before presenting such plots, you need to understand your audience as they may want the information in simpler way.*<br>\n",
    "\n",
    "We can introduce ``hue`` parameter in violin plot as well. Along with ``hue``, its very convenient to use ``split = True``. Rather than set of violins plots, next to each other for a nested categorical variable, this will draw half of a violin for each level that can make it easier to directly compare the distributions in nested categorical variable, e.g. ``sex``, ``smoker`` in this case."
   ]
  },
  {
   "cell_type": "code",
   "execution_count": null,
   "metadata": {},
   "outputs": [],
   "source": [
    "sns.violinplot(x=\"day\", y=\"total_bill\",data=tips,\n",
    "               hue='sex', split=True)"
   ]
  },
  {
   "cell_type": "markdown",
   "metadata": {
    "collapsed": true,
    "jupyter": {
     "outputs_hidden": true
    }
   },
   "source": [
    "In the plot above, the blue and green distributions are splitted in half of the each violin for male and female. Now we can directly compare the distributions the nested categorical variable ``sex`` for male and female.<br>\n",
    "&#9989; Once again, violin plots give lots of information and comes at the cost of spending more time for understanding and presenting to others, based on your audience.<br>\n",
    "* If you are dealing with more technical people, like data scientists etc, they may have used violin plots and this is a great choice to use while presenting the data. <br>\n",
    "* If you are dealing with more executive people like, CEO or investors, you better use the box plot, which is the more popular and commonly used for data interpretation. Only use violin plot if you find something very interesting using this type of the plot. \n",
    "\n",
    "**Remember, understand your audience!**"
   ]
  },
  {
   "cell_type": "markdown",
   "metadata": {
    "collapsed": true,
    "jupyter": {
     "outputs_hidden": true
    }
   },
   "source": [
    "### Statistical estimation within categories:\n",
    "Often, rather than showing the distribution within each category, you might want to show the [central tendency](https://en.wikipedia.org/wiki/Central_tendency) of the values. Seaborn provides elegant ways to show such information using its buit-in functions:\n",
    "### <code>barplot()</code>\n",
    "\n",
    "<code>barplot()</code> is a general plot that allows us to aggregate the categorical data based off some function, by default the mean. <br>\n",
    "For example:\n",
    "\n",
    "*<font style=\"font-size:11px;color:green;\">Measures of central tendency are often called averages. The term central tendency dates from the late 1920s. The most common measures of central tendency are the arithmetic mean, the median and the mode.</font>*"
   ]
  },
  {
   "cell_type": "code",
   "execution_count": null,
   "metadata": {},
   "outputs": [],
   "source": [
    "tips[tips['day']=='Thur']['total_bill'].mean()"
   ]
  },
  {
   "cell_type": "code",
   "execution_count": null,
   "metadata": {},
   "outputs": [],
   "source": [
    "tips"
   ]
  },
  {
   "cell_type": "code",
   "execution_count": null,
   "metadata": {},
   "outputs": [],
   "source": [
    "#sns.barplot(x='sex', y='total_bill',data=tips)\n",
    "sns.barplot(x=\"day\", y=\"total_bill\", data=tips)"
   ]
  },
  {
   "cell_type": "code",
   "execution_count": null,
   "metadata": {},
   "outputs": [],
   "source": [
    "sns.barplot(x=\"day\", y=\"total_bill\", hue=\"sex\",data=tips)"
   ]
  },
  {
   "cell_type": "markdown",
   "metadata": {
    "collapsed": true,
    "jupyter": {
     "outputs_hidden": true
    }
   },
   "source": [
    "Along Y, we get the mean of total_bill paid by male in blue bar and by female in green bar.<br>\n",
    "We can change the estimator object to our own function, let's say we want to use the standard deviation as our estimator for gender on each day in the week. We can use numpy.std for this purpose. *We can use our own customized function as an estimator as well. *<br>\n",
    "Let's see, which gender have more variance in the total_bill on each day. "
   ]
  },
  {
   "cell_type": "code",
   "execution_count": null,
   "metadata": {},
   "outputs": [],
   "source": [
    "import numpy as np\n",
    "#sns.barplot(x='sex', y='total_bill', data=tips, estimator=np.std)\n",
    "sns.barplot(x=\"day\", y=\"total_bill\", data=tips, hue=\"sex\",estimator=np.std)"
   ]
  },
  {
   "cell_type": "markdown",
   "metadata": {
    "collapsed": true,
    "jupyter": {
     "outputs_hidden": true
    }
   },
   "source": [
    "### <code>countplot()</code>\n",
    "\n",
    "A special case for the bar plot is when we want to show the number of observations in each category rather than computing a statistic for a second variable, such as mean, std etc. This is similar to a histogram over a categorical, rather than quantitative, variable. In seaborn, it’s easy to do so with the <code>countplot()</code> function.<br>\n",
    "\n",
    "This is essentially the same as barplot except the estimator is explicitly counting the number of occurrences. Which is why we only pass the x value:"
   ]
  },
  {
   "cell_type": "code",
   "execution_count": null,
   "metadata": {},
   "outputs": [],
   "source": [
    "tips[tips['day']=='Thur']['total_bill'].count()"
   ]
  },
  {
   "cell_type": "code",
   "execution_count": null,
   "metadata": {},
   "outputs": [],
   "source": [
    "tips"
   ]
  },
  {
   "cell_type": "code",
   "execution_count": null,
   "metadata": {},
   "outputs": [],
   "source": [
    "sns.countplot(x=\"day\", data=tips)"
   ]
  },
  {
   "cell_type": "code",
   "execution_count": null,
   "metadata": {},
   "outputs": [],
   "source": [
    "tips"
   ]
  },
  {
   "cell_type": "code",
   "execution_count": null,
   "metadata": {},
   "outputs": [],
   "source": [
    "sns.countplot(x=\"day\", hue=\"sex\",data=tips)"
   ]
  },
  {
   "cell_type": "markdown",
   "metadata": {
    "collapsed": true,
    "jupyter": {
     "outputs_hidden": true
    }
   },
   "source": [
    "In the plot above, no of observations in nested category \"sex\" on each day of the week is along Y. "
   ]
  },
  {
   "cell_type": "markdown",
   "metadata": {},
   "source": [
    "# Excellent Job!\n",
    "This section was extensive! We have learned a lot. Let's check our understanding with some exercises. "
   ]
  },
  {
   "cell_type": "code",
   "execution_count": null,
   "metadata": {},
   "outputs": [],
   "source": []
  }
 ],
 "metadata": {
  "kernelspec": {
   "display_name": "Python 3 (ipykernel)",
   "language": "python",
   "name": "python3"
  },
  "language_info": {
   "codemirror_mode": {
    "name": "ipython",
    "version": 3
   },
   "file_extension": ".py",
   "mimetype": "text/x-python",
   "name": "python",
   "nbconvert_exporter": "python",
   "pygments_lexer": "ipython3",
   "version": "3.12.8"
  }
 },
 "nbformat": 4,
 "nbformat_minor": 4
}
